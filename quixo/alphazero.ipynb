{
 "cells": [
  {
   "cell_type": "markdown",
   "metadata": {},
   "source": [
    "# AlphaZero"
   ]
  },
  {
   "cell_type": "code",
   "execution_count": null,
   "metadata": {},
   "outputs": [],
   "source": [
    "from game import Game\n",
    "from mcts import AlphaZeroPlayer, MonteCarloTreeSearch\n",
    "from tqdm.auto import tqdm\n",
    "from alphazeroquixo import QuixoNet\n",
    "from main import RandomPlayer"
   ]
  },
  {
   "cell_type": "markdown",
   "metadata": {},
   "source": [
    "## Train AlphaZero by self-play"
   ]
  },
  {
   "cell_type": "code",
   "execution_count": null,
   "metadata": {},
   "outputs": [],
   "source": [
    "model = QuixoNet()\n",
    "mcts = MonteCarloTreeSearch(model)\n",
    "n_games = 20 # 200_000 / 500_000\n",
    "epochs = 10 # 20\n",
    "epochs_per_game = 2 # 5\n",
    "simulation_per_game = 10 # 1000\n",
    "mcts.train(n_games, epochs, simulation_per_game)"
   ]
  },
  {
   "cell_type": "code",
   "execution_count": null,
   "metadata": {},
   "outputs": [],
   "source": [
    "# model = QuixoNet()\n",
    "# mcts = MonteCarloTreeSearch(model)\n",
    "n_games = 100 # 1000\n",
    "debug_main_loop = True\n",
    "alpha_zero_wins = 0\n",
    "random_wins = 0\n",
    "with tqdm(range(n_games), unit=\" game\", disable=not debug_main_loop) as games:\n",
    "    for i in games:\n",
    "        games.set_description(f\"Game {i}\")\n",
    "        g = Game()\n",
    "        player1 = RandomPlayer()\n",
    "        player2 = AlphaZeroPlayer(mcts, simulation=10)\n",
    "        if i % 2 == 0:\n",
    "            winner = g.play(player1, player2)\n",
    "            if winner == 0:\n",
    "                random_wins += 1\n",
    "            else:\n",
    "                alpha_zero_wins += 1\n",
    "        else:\n",
    "            winner = g.play(player2, player1)\n",
    "            if winner == 1:\n",
    "                random_wins += 1\n",
    "            else:\n",
    "                alpha_zero_wins += 1\n",
    "print(f'AlphaZero wins: {alpha_zero_wins}')\n",
    "print(f'Random wins: {random_wins}')"
   ]
  }
 ],
 "metadata": {
  "kernelspec": {
   "display_name": "venv",
   "language": "python",
   "name": "python3"
  },
  "language_info": {
   "codemirror_mode": {
    "name": "ipython",
    "version": 3
   },
   "file_extension": ".py",
   "mimetype": "text/x-python",
   "name": "python",
   "nbconvert_exporter": "python",
   "pygments_lexer": "ipython3",
   "version": "3.11.6"
  }
 },
 "nbformat": 4,
 "nbformat_minor": 2
}
