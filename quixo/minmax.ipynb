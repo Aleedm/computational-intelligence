{
 "cells": [
  {
   "cell_type": "markdown",
   "metadata": {},
   "source": [
    "# MiniMax"
   ]
  },
  {
   "cell_type": "code",
   "execution_count": 1,
   "metadata": {},
   "outputs": [
    {
     "name": "stderr",
     "output_type": "stream",
     "text": [
      "/Users/alessandrodemarco/Politecnico/Computational Intelligence/venv/lib/python3.11/site-packages/tqdm/auto.py:21: TqdmWarning: IProgress not found. Please update jupyter and ipywidgets. See https://ipywidgets.readthedocs.io/en/stable/user_install.html\n",
      "  from .autonotebook import tqdm as notebook_tqdm\n"
     ]
    }
   ],
   "source": [
    "from game import Game\n",
    "from main import RandomPlayer\n",
    "from minmax import MinMaxPlayer\n",
    "from tqdm.auto import tqdm"
   ]
  },
  {
   "cell_type": "code",
   "execution_count": 2,
   "metadata": {},
   "outputs": [],
   "source": [
    "n_games = 100\n",
    "n_win_random = 0\n",
    "n_win_minmax = 0\n",
    "debug_main_loop = True\n",
    "max_depth = 5"
   ]
  },
  {
   "cell_type": "code",
   "execution_count": 3,
   "metadata": {},
   "outputs": [
    {
     "name": "stderr",
     "output_type": "stream",
     "text": [
      "Game 99: 100%|██████████| 100/100 [01:14<00:00,  1.34 game/s]"
     ]
    },
    {
     "name": "stdout",
     "output_type": "stream",
     "text": [
      "Random wins: 5\n",
      "MinMax wins: 95\n",
      "MinMax wins percentage: 0.95\n"
     ]
    },
    {
     "name": "stderr",
     "output_type": "stream",
     "text": [
      "\n"
     ]
    }
   ],
   "source": [
    "with tqdm(range(n_games), unit=\" game\", disable=not debug_main_loop) as games:\n",
    "    for i in games:\n",
    "    #for i in range(n_games):\n",
    "        games.set_description(f\"Game {i}\")\n",
    "        g = Game()\n",
    "        player1 = RandomPlayer()\n",
    "        player2 = MinMaxPlayer(max_depth=max_depth)\n",
    "        if i % 2 == 0:\n",
    "            winner= g.play(player1, player2)\n",
    "            if winner == 0:\n",
    "                n_win_random += 1\n",
    "            else:\n",
    "                n_win_minmax += 1\n",
    "        else:\n",
    "            winner= g.play(player2, player1)\n",
    "            if winner == 1:\n",
    "                n_win_random += 1\n",
    "            else:\n",
    "                n_win_minmax += 1\n",
    "        \n",
    "print(f'Random wins: {n_win_random}')\n",
    "print(f'MinMax wins: {n_win_minmax}')\n",
    "print(f'MinMax wins percentage: {n_win_minmax/n_games}')"
   ]
  }
 ],
 "metadata": {
  "kernelspec": {
   "display_name": "venv",
   "language": "python",
   "name": "python3"
  },
  "language_info": {
   "codemirror_mode": {
    "name": "ipython",
    "version": 3
   },
   "file_extension": ".py",
   "mimetype": "text/x-python",
   "name": "python",
   "nbconvert_exporter": "python",
   "pygments_lexer": "ipython3",
   "version": "3.11.6"
  }
 },
 "nbformat": 4,
 "nbformat_minor": 2
}
