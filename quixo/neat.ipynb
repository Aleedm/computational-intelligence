{
 "cells": [
  {
   "cell_type": "markdown",
   "metadata": {},
   "source": [
    "# NEAT"
   ]
  },
  {
   "cell_type": "code",
   "execution_count": 1,
   "metadata": {},
   "outputs": [],
   "source": [
    "from NEAT import Population, NeatPlayer\n",
    "from game import Game\n",
    "from main import RandomPlayer\n",
    "from tqdm import tqdm"
   ]
  },
  {
   "cell_type": "markdown",
   "metadata": {},
   "source": [
    "## Create starting population"
   ]
  },
  {
   "cell_type": "code",
   "execution_count": 2,
   "metadata": {},
   "outputs": [],
   "source": [
    "population_size = 20 # 100\n",
    "mutation_rate = 0.3\n",
    "elitism_rate = 0.1 \n",
    "max_hidden_layers = 5 # 20\n",
    "max_neurons_per_layer = 100 # 1000\n",
    "\n",
    "population = Population(population_size, mutation_rate, elitism_rate, max_hidden_layers = max_hidden_layers, max_neurons_per_layer = max_neurons_per_layer)"
   ]
  },
  {
   "cell_type": "markdown",
   "metadata": {},
   "source": [
    "# Run simulation"
   ]
  },
  {
   "cell_type": "code",
   "execution_count": 3,
   "metadata": {},
   "outputs": [
    {
     "name": "stderr",
     "output_type": "stream",
     "text": [
      "Generation:   0%|          | 0/10 [00:00<?, ?it/s]"
     ]
    },
    {
     "name": "stderr",
     "output_type": "stream",
     "text": [
      "Generation: 100%|██████████| 10/10 [01:34<00:00,  9.47s/it]\n"
     ]
    }
   ],
   "source": [
    "num_generations = 10 # 1000\n",
    "num_games_per_individual = 5 # 100\n",
    "\n",
    "population.simulate(num_generations, num_games_per_individual)\n",
    "best_individual = population.get_best_individual()"
   ]
  },
  {
   "cell_type": "markdown",
   "metadata": {},
   "source": [
    "# Play against best"
   ]
  },
  {
   "cell_type": "code",
   "execution_count": 4,
   "metadata": {},
   "outputs": [
    {
     "name": "stderr",
     "output_type": "stream",
     "text": [
      "Game 999: 100%|██████████| 1000/1000 [00:34<00:00, 29.03 game/s]"
     ]
    },
    {
     "name": "stdout",
     "output_type": "stream",
     "text": [
      "Neat wins: 754\n",
      "Random wins: 246\n"
     ]
    },
    {
     "name": "stderr",
     "output_type": "stream",
     "text": [
      "\n"
     ]
    }
   ],
   "source": [
    "genome = best_individual.genome\n",
    "n_games = 1000\n",
    "neat_wins = 0\n",
    "random_wins = 0\n",
    "debug_main_loop = True\n",
    "with tqdm(range(n_games), unit=\" game\", disable=not debug_main_loop) as games:\n",
    "    for i in games:\n",
    "        games.set_description(f\"Game {i}\")\n",
    "        g = Game()\n",
    "        player1 = RandomPlayer()\n",
    "        player2 = NeatPlayer(genome)\n",
    "        if i % 2 == 0:\n",
    "            winner = g.play(player1, player2)\n",
    "            if winner == 0:\n",
    "                random_wins += 1\n",
    "            else:\n",
    "                neat_wins += 1\n",
    "        else:\n",
    "            winner = g.play(player2, player1)\n",
    "            if winner == 1:\n",
    "                random_wins += 1\n",
    "            else:\n",
    "                neat_wins += 1\n",
    "                \n",
    "print(f'Neat wins: {neat_wins}')\n",
    "print(f'Random wins: {random_wins}')"
   ]
  }
 ],
 "metadata": {
  "kernelspec": {
   "display_name": "venv",
   "language": "python",
   "name": "python3"
  },
  "language_info": {
   "codemirror_mode": {
    "name": "ipython",
    "version": 3
   },
   "file_extension": ".py",
   "mimetype": "text/x-python",
   "name": "python",
   "nbconvert_exporter": "python",
   "pygments_lexer": "ipython3",
   "version": "3.11.6"
  }
 },
 "nbformat": 4,
 "nbformat_minor": 2
}
